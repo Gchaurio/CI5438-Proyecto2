{
 "cells": [
  {
   "cell_type": "code",
   "execution_count": null,
   "metadata": {},
   "outputs": [],
   "source": [
    "import pandas as pd\n",
    "from network import Network\n",
    "import matplotlib.pyplot as plt\n",
    "\n",
    "dep = ['Iris-setosa','Iris-versicolor','Iris-virginica']\n",
    "ind = ['sepal_length','sepal_width','petal_length','petal_width']\n",
    "df = pd.read_csv(\"iris.csv\")\n",
    "#posible_class = len(df['species'].unique())\n",
    "n = Network(df, ind, dep, [10, 10, len(dep)])\n",
    "n.form_network()\n",
    "n.train_network(1000, 0.1)\n"
   ]
  }
 ],
 "metadata": {
  "kernelspec": {
   "display_name": "Python 3",
   "language": "python",
   "name": "python3"
  },
  "language_info": {
   "codemirror_mode": {
    "name": "ipython",
    "version": 3
   },
   "file_extension": ".py",
   "mimetype": "text/x-python",
   "name": "python",
   "nbconvert_exporter": "python",
   "pygments_lexer": "ipython3",
   "version": "3.11.4"
  }
 },
 "nbformat": 4,
 "nbformat_minor": 2
}
